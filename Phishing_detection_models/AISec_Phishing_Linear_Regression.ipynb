{
  "nbformat": 4,
  "nbformat_minor": 0,
  "metadata": {
    "kernelspec": {
      "display_name": "Py35",
      "language": "python",
      "name": "py35"
    },
    "language_info": {
      "codemirror_mode": {
        "name": "ipython",
        "version": 3
      },
      "file_extension": ".py",
      "mimetype": "text/x-python",
      "name": "python",
      "nbconvert_exporter": "python",
      "pygments_lexer": "ipython3",
      "version": "3.5.4"
    },
    "colab": {
      "name": "AISec_Phishing_Linear_Regression.ipynb",
      "provenance": []
    }
  },
  "cells": [
    {
      "cell_type": "code",
      "metadata": {
        "id": "OiLSYUSo4Qvl"
      },
      "source": [
        "import pandas as pd\n",
        "import numpy as np\n",
        "from sklearn import *\n",
        "from sklearn.linear_model import LinearRegression\n",
        "from sklearn.metrics import accuracy_score\n",
        "import warnings \n",
        "warnings.simplefilter('ignore')\n"
      ],
      "execution_count": 13,
      "outputs": []
    },
    {
      "cell_type": "code",
      "metadata": {
        "id": "AVecDCzc4Qvo"
      },
      "source": [
        "cols = ['having_IP_Address','URL_Length','Shortining_Service','having_At_Symbol','double_slash_redirecting','Prefix_Suffix','having_Sub_Domain','SSLfinal_State','Domain_registeration_length','Favicon','port','HTTPS_token','Request_URL','URL_of_Anchor','Links_in_tags','SFH','Submitting_to_email','Abnormal_URL','Redirect','on_mouseover','RightClick','popUpWidnow','Iframe','age_of_domain','DNSRecord','web_traffic','Page_Rank','Google_Index','Links_pointing_to_page','Statistical_report','Result']\n",
        "path = '/content/phishing_dataset.csv'\n",
        "\n",
        "phishing_dataset = pd.read_csv( path, delimiter=',', dtype=np.int32,names=cols)\n",
        "\n",
        "samples = phishing_dataset.iloc[:,:-1]\n",
        "targets = phishing_dataset.iloc[:, -1]\n",
        "\n",
        "from sklearn.model_selection import train_test_split\n",
        "\n",
        "training_samples, testing_samples, training_targets, testing_targets = train_test_split(\n",
        "         samples, targets, test_size=0.2, random_state=0)"
      ],
      "execution_count": 14,
      "outputs": []
    },
    {
      "cell_type": "code",
      "metadata": {
        "id": "K0A52vBU4Qv7"
      },
      "source": [
        "# Check the LR coef to undrstand Features Importance\n",
        "def calc_feat_imp(model, samples):\n",
        "    \n",
        "    coef = model.coef_\n",
        "    col = list(samples.columns)\n",
        "    col_dict = dict(list(zip(col,coef)))\n",
        "    feat_sort =  sorted(col_dict.items(), key=lambda kv: abs(kv[1]), reverse=True) # Sort the dct on values\n",
        "    return feat_sort"
      ],
      "execution_count": 15,
      "outputs": []
    },
    {
      "cell_type": "code",
      "metadata": {
        "id": "r_Oq_aqX4Qvt"
      },
      "source": [
        "# Train and return Accuracy\n",
        "def train_score(model, data, thres): # Data is a list\n",
        "    \n",
        "    acc = []\n",
        "    model.fit(data[0], data[1])\n",
        "    \n",
        "    for index in [0,2]:\n",
        "        pred = model.predict(data[index])\n",
        "        pred = np.where(pred < thres, -1, 1)\n",
        "        accuracy = 100.0 * accuracy_score(data[index+1], pred)\n",
        "        acc.append(accuracy)\n",
        "    feat_imp = calc_feat_imp(model, data[0])\n",
        "    \n",
        "    return acc, feat_imp"
      ],
      "execution_count": 16,
      "outputs": []
    },
    {
      "cell_type": "code",
      "metadata": {
        "id": "zl6S4PIq4Qv4",
        "colab": {
          "base_uri": "https://localhost:8080/"
        },
        "outputId": "1c1b77bc-5ff7-4984-f8ca-bcd46b55324e"
      },
      "source": [
        "# Print score\n",
        "model = LinearRegression()\n",
        "# Thres 0.40 is based on few trial and errors\n",
        "acc, feat_sort = train_score(model, [training_samples, training_targets, testing_samples, testing_targets],  thres=0.40) # Passing 4 datasets together as a list\n",
        "\n",
        "print(acc[0], acc[1])"
      ],
      "execution_count": 17,
      "outputs": [
        {
          "output_type": "stream",
          "name": "stdout",
          "text": [
            "88.68159203980099 88.2858435097241\n"
          ]
        }
      ]
    },
    {
      "cell_type": "markdown",
      "metadata": {
        "id": "-9_htvnmhb3v"
      },
      "source": [
        "## Let's create the degree-2 poly features of top 20 featutes to handle Interaction"
      ]
    },
    {
      "cell_type": "code",
      "metadata": {
        "id": "lZxhPx3kDUi5"
      },
      "source": [
        "# Polynomial Linear Regresion \n",
        "def poly_feat(x,deg):\n",
        "    from sklearn.preprocessing import PolynomialFeatures\n",
        "\n",
        "    poly = PolynomialFeatures(degree = deg) \n",
        "    x = pd.DataFrame(poly.fit_transform(x), columns=poly.get_feature_names(samples.columns)) \n",
        "\n",
        "    return x"
      ],
      "execution_count": 18,
      "outputs": []
    },
    {
      "cell_type": "code",
      "metadata": {
        "id": "9AfN2B99qasd",
        "colab": {
          "base_uri": "https://localhost:8080/"
        },
        "outputId": "7e168b27-929f-4165-c4ef-7802c052d34e"
      },
      "source": [
        "d = 2\n",
        "feat_cnt = 20\n",
        "col_top_cnt = [ elem[0] for elem in feat_sort ][:feat_cnt]\n",
        "\n",
        "# Select top \"col_top_cnt\" Features\n",
        "training_samples, testing_samples  = training_samples.loc[:,col_top_cnt], testing_samples.loc[:,col_top_cnt]\n",
        "\n",
        "# Generate Polynomial Features\n",
        "training_samples, testing_samples  = poly_feat(training_samples, d), poly_feat(testing_samples, d) # testing_samples.shape\n",
        "\n",
        "# Print score\n",
        "# Thres 0.40 is based on few trial and errors\n",
        "acc, feat_sort = train_score(model, [training_samples, training_targets, testing_samples, testing_targets], thres=0.40) # Passing 4 datasets together as a list\n",
        "\n",
        "print(acc[0], acc[1])"
      ],
      "execution_count": 19,
      "outputs": [
        {
          "output_type": "stream",
          "name": "stdout",
          "text": [
            "92.59384893713252 92.08502939846224\n"
          ]
        }
      ]
    },
    {
      "cell_type": "code",
      "metadata": {
        "colab": {
          "base_uri": "https://localhost:8080/"
        },
        "id": "gVq5y12xmfVf",
        "outputId": "20d7bce9-535d-4cfa-91d8-1db6708bbda4"
      },
      "source": [
        "# Top Features without losing accuracy\n",
        "feat_cnt = 50\n",
        "col_top_cnt = [ elem[0] for elem in feat_sort ][:feat_cnt]\n",
        "training_samples, testing_samples  = training_samples.loc[:,col_top_cnt], testing_samples.loc[:,col_top_cnt]\n",
        "\n",
        "# Print score\n",
        "# Thres 0.40 is based on few trial and errors\n",
        "acc, feat_sort = train_score(model, [training_samples, training_targets, testing_samples, testing_targets], thres=0.40) # Passing 4 datasets together as a list\n",
        "\n",
        "print(acc[0], acc[1])"
      ],
      "execution_count": 20,
      "outputs": [
        {
          "output_type": "stream",
          "name": "stdout",
          "text": [
            "92.22071460877432 92.13025780189959\n"
          ]
        }
      ]
    },
    {
      "cell_type": "code",
      "metadata": {
        "id": "jG7p-IgYTw2o",
        "outputId": "6bb40a9c-c933-4aa9-c496-bdc0133b862b",
        "colab": {
          "base_uri": "https://localhost:8080/",
          "height": 35
        }
      },
      "source": [
        "'''Only 50 Features was required for the best score'''"
      ],
      "execution_count": 21,
      "outputs": [
        {
          "output_type": "execute_result",
          "data": {
            "application/vnd.google.colaboratory.intrinsic+json": {
              "type": "string"
            },
            "text/plain": [
              "'Only 50 Features was required for the best score'"
            ]
          },
          "metadata": {},
          "execution_count": 21
        }
      ]
    }
  ]
}