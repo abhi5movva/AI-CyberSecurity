{
  "nbformat": 4,
  "nbformat_minor": 0,
  "metadata": {
    "kernelspec": {
      "display_name": "Py35",
      "language": "python",
      "name": "py35"
    },
    "language_info": {
      "codemirror_mode": {
        "name": "ipython",
        "version": 3
      },
      "file_extension": ".py",
      "mimetype": "text/x-python",
      "name": "python",
      "nbconvert_exporter": "python",
      "pygments_lexer": "ipython3",
      "version": "3.5.4"
    },
    "colab": {
      "name": "AISec_Phishing_SVM.ipynb",
      "provenance": [],
      "collapsed_sections": []
    }
  },
  "cells": [
    {
      "cell_type": "code",
      "metadata": {
        "id": "OiLSYUSo4Qvl"
      },
      "source": [
        "import pandas as pd\n",
        "import numpy as np\n",
        "from sklearn import *\n",
        "from sklearn.svm import SVC\n",
        "from sklearn.metrics import accuracy_score\n",
        "import warnings \n",
        "warnings.simplefilter('ignore')\n"
      ],
      "execution_count": null,
      "outputs": []
    },
    {
      "cell_type": "code",
      "metadata": {
        "id": "AVecDCzc4Qvo"
      },
      "source": [
        "cols = ['having_IP_Address','URL_Length','Shortining_Service','having_At_Symbol','double_slash_redirecting','Prefix_Suffix','having_Sub_Domain','SSLfinal_State','Domain_registeration_length','Favicon','port','HTTPS_token','Request_URL','URL_of_Anchor','Links_in_tags','SFH','Submitting_to_email','Abnormal_URL','Redirect','on_mouseover','RightClick','popUpWidnow','Iframe','age_of_domain','DNSRecord','web_traffic','Page_Rank','Google_Index','Links_pointing_to_page','Statistical_report','Result']\n",
        "path = '/content/drive/MyDrive/Temp/Abhinaya/19-Sep/Cyber_Sec -  Lab 3.1/datasets/phishing_dataset.csv'\n",
        "\n",
        "phishing_dataset = pd.read_csv( path, delimiter=',', dtype=np.int32,names=cols)\n",
        "\n",
        "samples = phishing_dataset.iloc[:,:-1]\n",
        "targets = phishing_dataset.iloc[:, -1]\n",
        "\n",
        "from sklearn.model_selection import train_test_split\n",
        "\n",
        "training_samples, testing_samples, training_targets, testing_targets = train_test_split(\n",
        "         samples, targets, test_size=0.2, random_state=7)"
      ],
      "execution_count": null,
      "outputs": []
    },
    {
      "cell_type": "code",
      "metadata": {
        "id": "K0A52vBU4Qv7"
      },
      "source": [
        "# Check the LR coef to undrstand Features Importance\n",
        "def calc_feat_imp(model, samples):\n",
        "    \n",
        "    coef = model.coef_[0]\n",
        "    col = list(samples.columns)\n",
        "    col_dict = dict(list(zip(col,coef)))\n",
        "    feat_sort =  sorted(col_dict.items(), key=lambda kv: abs(kv[1]), reverse=True)\n",
        "    return feat_sort"
      ],
      "execution_count": null,
      "outputs": []
    },
    {
      "cell_type": "code",
      "metadata": {
        "id": "r_Oq_aqX4Qvt"
      },
      "source": [
        "# Train and return Accuracy\n",
        "def train_score(model, data, threshold=0.5):\n",
        "    \n",
        "    acc = []\n",
        "    model.fit(data[0], data[1])\n",
        "    \n",
        "    for index in [0,2]:\n",
        "        pred = model.predict_proba(data[index],)\n",
        "        pred = np.where(pred[:,1] > threshold, 1, -1)\n",
        "        accuracy = 100.0 * accuracy_score(data[index+1], pred)\n",
        "        acc.append(accuracy)\n",
        "    feat_imp = calc_feat_imp(model, data[0])\n",
        "    \n",
        "    return acc, feat_imp"
      ],
      "execution_count": null,
      "outputs": []
    },
    {
      "cell_type": "code",
      "metadata": {
        "id": "zl6S4PIq4Qv4",
        "colab": {
          "base_uri": "https://localhost:8080/"
        },
        "outputId": "817c68da-2a34-4d0e-cabf-1f8e460083fe"
      },
      "source": [
        "# Print score\n",
        "model = SVC(kernel='linear', probability=True)\n",
        "acc, feat_sort = train_score(model, [training_samples, training_targets, testing_samples, testing_targets])\n",
        "\n",
        "print(acc[0], acc[1])"
      ],
      "execution_count": null,
      "outputs": [
        {
          "output_type": "stream",
          "name": "stdout",
          "text": [
            "92.48077792853913 94.02985074626866\n"
          ]
        }
      ]
    },
    {
      "cell_type": "markdown",
      "metadata": {
        "id": "-9_htvnmhb3v"
      },
      "source": [
        "## Let's create the degree-2 poly features of top 20 featutes to handle Interaction"
      ]
    },
    {
      "cell_type": "code",
      "metadata": {
        "id": "lZxhPx3kDUi5"
      },
      "source": [
        "# Polynomial Linear Regresion \n",
        "def poly_feat(x,deg):\n",
        "    from sklearn.preprocessing import PolynomialFeatures\n",
        "\n",
        "    poly = PolynomialFeatures(degree = deg) \n",
        "    x = pd.DataFrame(poly.fit_transform(x), columns=poly.get_feature_names(samples.columns)) \n",
        "\n",
        "    return x"
      ],
      "execution_count": null,
      "outputs": []
    },
    {
      "cell_type": "code",
      "metadata": {
        "id": "9AfN2B99qasd",
        "colab": {
          "base_uri": "https://localhost:8080/"
        },
        "outputId": "4b67c59f-e30e-4b45-d555-a09a8829e4f5"
      },
      "source": [
        "d = 2\n",
        "feat_cnt = 25\n",
        "col_top_cnt = [ elem[0] for elem in feat_sort ][:feat_cnt]\n",
        "\n",
        "# Select top \"col_top_cnt\" Features\n",
        "training_samples, testing_samples  = training_samples.loc[:,col_top_cnt], testing_samples.loc[:,col_top_cnt]\n",
        "\n",
        "# Generate Polynomial Features\n",
        "training_samples, testing_samples  = poly_feat(training_samples, d), poly_feat(testing_samples, d) # testing_samples.shape\n",
        "\n",
        "# Print score\n",
        "THRESHOLD = 0.425\n",
        "acc, feat_sort = train_score(model, [training_samples, training_targets, testing_samples, testing_targets], threshold=THRESHOLD)\n",
        "print(acc[0], acc[1])"
      ],
      "execution_count": null,
      "outputs": [
        {
          "output_type": "stream",
          "name": "stdout",
          "text": [
            "96.15558570782451 95.65807327001356\n"
          ]
        }
      ]
    },
    {
      "cell_type": "code",
      "metadata": {
        "colab": {
          "base_uri": "https://localhost:8080/"
        },
        "id": "gVq5y12xmfVf",
        "outputId": "4368500d-42ca-4713-bb85-64ef0b2a42c6"
      },
      "source": [
        "# Top Features to reduce Feature count without impacting accuracy\n",
        "feat_cnt = 140\n",
        "col_top_cnt = [ elem[0] for elem in feat_sort ][:feat_cnt]\n",
        "training_samples, testing_samples  = training_samples.loc[:,col_top_cnt], testing_samples.loc[:,col_top_cnt]\n",
        "\n",
        "# Print score\n",
        "acc, feat_sort = train_score(model, [training_samples, training_targets, testing_samples, testing_targets]) #testing_samples.shape[0]*(1-.9502487562189054)\n",
        "\n",
        "print(acc[0], acc[1])"
      ],
      "execution_count": null,
      "outputs": [
        {
          "output_type": "stream",
          "name": "stdout",
          "text": [
            "94.83265490728178 94.84396200814112\n"
          ]
        }
      ]
    },
    {
      "cell_type": "code",
      "metadata": {
        "id": "TLfdlADGWGgR"
      },
      "source": [
        ""
      ],
      "execution_count": null,
      "outputs": []
    }
  ]
}